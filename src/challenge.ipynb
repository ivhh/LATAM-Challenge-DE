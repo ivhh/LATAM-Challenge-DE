{
 "cells": [
  {
   "cell_type": "markdown",
   "metadata": {
    "application/vnd.databricks.v1+cell": {
     "cellMetadata": {},
     "inputWidgets": {},
     "nuid": "9706d80d-3c27-4da0-b90f-ceada37c05a0",
     "showTitle": false,
     "title": ""
    }
   },
   "source": [
    "# LATAM - Challenge Data Engineer\n",
    "\n",
    "*Autor: Iván Daniel Huerta Herrera*\n",
    "\n",
    "*Versión: 1.0.0*\n",
    "\n",
    "### Contexto\n",
    "\n",
    "Se tiene la información de un conjunto de Tweets (de la red social Twitter) en un archivo de texto plano donde cada línea corresponde a un objeto JSON.\n",
    "\n",
    "Se nos pide realizar una serie de tareas que serán descritas a continuación.\n",
    "\n",
    "#### Problema 1\n",
    "\n",
    "Encontrar las top 10 fechas donde hay más tweets. Mencionar el usuario (username) que más publicaciones tiene por cada uno de esos días.\n",
    "\n",
    "#### Problema 2\n",
    "\n",
    "Listar los top 10 emojis más usados con su respectivo conteo.\n",
    "\n",
    "#### Problema 3\n",
    "\n",
    "Encontrar el top 10 histórico de usuarios (username) más influyentes en función del conteo de las menciones (@) que registra cada uno de ellos\n",
    "\n",
    "### Restricciones\n",
    "\n",
    "Cada problema debe implementar las functiones contenidas en los archivos `q<X>_memory.py` y `q<X>_time.py`, donde `<X>` corresponde al número de pregunta. Estas funciones deben optimizar el uso de memoria o el tiempo de ejecución respectivamente."
   ]
  },
  {
   "cell_type": "markdown",
   "metadata": {
    "application/vnd.databricks.v1+cell": {
     "cellMetadata": {},
     "inputWidgets": {},
     "nuid": "02d2631e-4e40-4d1d-b57e-60992bb52ed5",
     "showTitle": false,
     "title": ""
    }
   },
   "source": [
    "## Consideraciones en la solución\n",
    "\n",
    "Para la optimización de cada uno de los parámetros solicitados se considerará:\n",
    "\n",
    " - *Memoria*: El documento se leera en de línea en línea y no completo, y la información agregada se hará de forma directa.\n",
    " \n",
    " - *Tiempo*: Se utilizará como estrategia usar *MapReduce* con computación distribuida. De manera que las agregaciones se puedan realizar en paralelo. "
   ]
  },
  {
   "cell_type": "markdown",
   "metadata": {},
   "source": [
    "**Todo lo ejecutado en este desafío se realizó en un cluster de Databricks, pero si se tiene instalado spark localmente también se podría ejecutar ahí**"
   ]
  },
  {
   "cell_type": "code",
   "execution_count": null,
   "metadata": {
    "application/vnd.databricks.v1+cell": {
     "cellMetadata": {
      "byteLimit": 2048000,
      "rowLimit": 10000
     },
     "inputWidgets": {},
     "nuid": "09072c3b-512c-48f2-8f77-5040eb83eed1",
     "showTitle": false,
     "title": ""
    }
   },
   "outputs": [
    {
     "name": "stdout",
     "output_type": "stream",
     "text": [
      "Collecting memory-profiler==0.61.0\n",
      "  Downloading memory_profiler-0.61.0-py3-none-any.whl (31 kB)\n",
      "Requirement already satisfied: psutil in /databricks/python3/lib/python3.10/site-packages (from memory-profiler==0.61.0) (5.9.0)\n",
      "Installing collected packages: memory-profiler\n",
      "Successfully installed memory-profiler-0.61.0\n"
     ]
    },
    {
     "name": "stderr",
     "output_type": "stream",
     "text": [
      "\n",
      "[notice] A new release of pip available: 22.2.2 -> 24.1.2\n",
      "[notice] To update, run: pip install --upgrade pip\n"
     ]
    }
   ],
   "source": [
    "%sh\n",
    "\n",
    "pip install memory-profiler==0.61.0"
   ]
  },
  {
   "cell_type": "markdown",
   "metadata": {
    "application/vnd.databricks.v1+cell": {
     "cellMetadata": {},
     "inputWidgets": {},
     "nuid": "facc73ad-5bb8-49b5-b91b-6d00cf8495a5",
     "showTitle": false,
     "title": ""
    }
   },
   "source": [
    "### Inicialización de recursos importantes"
   ]
  },
  {
   "cell_type": "code",
   "execution_count": null,
   "metadata": {
    "application/vnd.databricks.v1+cell": {
     "cellMetadata": {
      "byteLimit": 2048000,
      "rowLimit": 10000
     },
     "inputWidgets": {},
     "nuid": "1c74aaba-be83-4f9a-9505-043133ba09a5",
     "showTitle": false,
     "title": ""
    }
   },
   "outputs": [],
   "source": [
    "file_path = \"/Volumes/test/default/data/farmers-protest-tweets-2021-2-4.json\"\n",
    "\n",
    "mem_usage = {}\n",
    "time_usage = {}"
   ]
  },
  {
   "cell_type": "markdown",
   "metadata": {
    "application/vnd.databricks.v1+cell": {
     "cellMetadata": {},
     "inputWidgets": {},
     "nuid": "3b55cb5d-08e5-4040-a83c-187996d6a8ca",
     "showTitle": false,
     "title": ""
    }
   },
   "source": [
    "Antes de ver si se debe hacer o no limpieza de datos se verificará que no existan repetidos, el resto de la información se verificará con los schemas y los parsings que se hacen en los scripts"
   ]
  },
  {
   "cell_type": "code",
   "execution_count": null,
   "metadata": {
    "application/vnd.databricks.v1+cell": {
     "cellMetadata": {
      "byteLimit": 2048000,
      "rowLimit": 10000
     },
     "inputWidgets": {},
     "nuid": "7501f82b-911b-49c6-a02c-51aea7770983",
     "showTitle": false,
     "title": ""
    }
   },
   "outputs": [
    {
     "name": "stdout",
     "output_type": "stream",
     "text": [
      "+-------------------+-----+\n",
      "|                 id|count|\n",
      "+-------------------+-----+\n",
      "|1364486773540331522|    1|\n",
      "+-------------------+-----+\n",
      "\n"
     ]
    }
   ],
   "source": [
    "from utils.pyspark_mng import PySparkManager\n",
    "from utils.pyspark_schema import tweet_schema\n",
    "\n",
    "with PySparkManager() as spark:\n",
    "    tweet_df = spark.read.json(file_path, schema=tweet_schema)\n",
    "    rows = tweet_df.groupBy(\"id\").count().orderBy(\n",
    "        \"count\", ascending=False\n",
    "    ).limit(1).show()"
   ]
  },
  {
   "cell_type": "markdown",
   "metadata": {
    "application/vnd.databricks.v1+cell": {
     "cellMetadata": {},
     "inputWidgets": {},
     "nuid": "00775085-667f-4eb2-9f73-7dd6e9e6adcf",
     "showTitle": false,
     "title": ""
    }
   },
   "source": [
    "Se crea una función que utiliza los decoradores para la medición de la memoría y el tiempo para ejecutar la función objetivo"
   ]
  },
  {
   "cell_type": "code",
   "execution_count": null,
   "metadata": {
    "application/vnd.databricks.v1+cell": {
     "cellMetadata": {
      "byteLimit": 2048000,
      "rowLimit": 10000
     },
     "inputWidgets": {},
     "nuid": "21798da5-4e25-43a6-99f0-786180b2ab4a",
     "showTitle": false,
     "title": ""
    }
   },
   "outputs": [],
   "source": [
    "from utils.profilers import mem_profiler, time_profiler\n",
    "\n",
    "def run_function(func, tag, file): \n",
    "    @time_profiler(time_map=time_usage, tag=tag)\n",
    "    @mem_profiler(mem_map=mem_usage, tag=tag)\n",
    "    def wrapper(file):\n",
    "        return func(file)\n",
    "    return wrapper(file)"
   ]
  },
  {
   "cell_type": "markdown",
   "metadata": {
    "application/vnd.databricks.v1+cell": {
     "cellMetadata": {},
     "inputWidgets": {},
     "nuid": "ce9adf3f-a7ae-44f2-9c65-10c6cb77fa32",
     "showTitle": false,
     "title": ""
    }
   },
   "source": [
    "#### Problema 1"
   ]
  },
  {
   "cell_type": "markdown",
   "metadata": {
    "application/vnd.databricks.v1+cell": {
     "cellMetadata": {},
     "inputWidgets": {},
     "nuid": "6f6dd977-fc22-4e0b-bf9e-16e8182b25c7",
     "showTitle": false,
     "title": ""
    }
   },
   "source": [
    "##### Resolución optimizando la memoria RAM"
   ]
  },
  {
   "cell_type": "code",
   "execution_count": null,
   "metadata": {
    "application/vnd.databricks.v1+cell": {
     "cellMetadata": {
      "byteLimit": 2048000,
      "rowLimit": 10000
     },
     "inputWidgets": {},
     "nuid": "da969f90-22d9-470a-8660-e897cc26e068",
     "showTitle": false,
     "title": ""
    }
   },
   "outputs": [
    {
     "name": "stdout",
     "output_type": "stream",
     "text": [
      "[(datetime.date(2021, 2, 19), 'Preetm91'), (datetime.date(2021, 2, 18), 'neetuanjle_nitu'), (datetime.date(2021, 2, 17), 'RaaJVinderkaur'), (datetime.date(2021, 2, 13), 'MaanDee08215437'), (datetime.date(2021, 2, 12), 'RanbirS00614606'), (datetime.date(2021, 2, 21), 'Surrypuria'), (datetime.date(2021, 2, 18), 'rebelpacifist'), (datetime.date(2021, 2, 19), 'KaurDosanjh1979'), (datetime.date(2021, 2, 23), 'Surrypuria'), (datetime.date(2021, 2, 15), 'jot__b')]\n"
     ]
    }
   ],
   "source": [
    "from q1_memory import q1_memory\n",
    "\n",
    "run_function(\n",
    "    lambda x: print(q1_memory(x)),\n",
    "    \"q1_memory\",\n",
    "    file_path\n",
    ")"
   ]
  },
  {
   "cell_type": "markdown",
   "metadata": {
    "application/vnd.databricks.v1+cell": {
     "cellMetadata": {},
     "inputWidgets": {},
     "nuid": "b7769cea-6bd1-4bd9-ac8f-6b60c15e35ef",
     "showTitle": false,
     "title": ""
    }
   },
   "source": [
    "##### Resolución optimizando el tiempo"
   ]
  },
  {
   "cell_type": "code",
   "execution_count": null,
   "metadata": {
    "application/vnd.databricks.v1+cell": {
     "cellMetadata": {
      "byteLimit": 2048000,
      "rowLimit": 10000
     },
     "inputWidgets": {},
     "nuid": "71c7524d-4241-4f18-a6c4-303b45ca5a0f",
     "showTitle": false,
     "title": ""
    }
   },
   "outputs": [
    {
     "name": "stdout",
     "output_type": "stream",
     "text": [
      "[(datetime.date(2021, 2, 19), 'Preetm91'), (datetime.date(2021, 2, 18), 'neetuanjle_nitu'), (datetime.date(2021, 2, 17), 'RaaJVinderkaur'), (datetime.date(2021, 2, 13), 'MaanDee08215437'), (datetime.date(2021, 2, 12), 'RanbirS00614606'), (datetime.date(2021, 2, 21), 'Surrypuria'), (datetime.date(2021, 2, 18), 'rebelpacifist'), (datetime.date(2021, 2, 19), 'KaurDosanjh1979'), (datetime.date(2021, 2, 23), 'Surrypuria'), (datetime.date(2021, 2, 15), 'jot__b')]\n"
     ]
    }
   ],
   "source": [
    "from q1_time import q1_time\n",
    "\n",
    "run_function(\n",
    "    lambda x: print(q1_time(x)),\n",
    "    \"q1_time\",\n",
    "    file_path\n",
    ")"
   ]
  },
  {
   "cell_type": "markdown",
   "metadata": {
    "application/vnd.databricks.v1+cell": {
     "cellMetadata": {},
     "inputWidgets": {},
     "nuid": "5b8b2064-709d-4dff-8925-dba9ef286c9d",
     "showTitle": false,
     "title": ""
    }
   },
   "source": [
    "#### Problema 2"
   ]
  },
  {
   "cell_type": "markdown",
   "metadata": {
    "application/vnd.databricks.v1+cell": {
     "cellMetadata": {},
     "inputWidgets": {},
     "nuid": "a2ed4501-2ed3-4348-96af-5757bd0681a0",
     "showTitle": false,
     "title": ""
    }
   },
   "source": [
    "##### Resolución optimizando la memoria RAM"
   ]
  },
  {
   "cell_type": "code",
   "execution_count": null,
   "metadata": {
    "application/vnd.databricks.v1+cell": {
     "cellMetadata": {
      "byteLimit": 2048000,
      "rowLimit": 10000
     },
     "inputWidgets": {},
     "nuid": "831d64c4-271f-466b-ad0e-d7de763b337b",
     "showTitle": false,
     "title": ""
    }
   },
   "outputs": [
    {
     "name": "stdout",
     "output_type": "stream",
     "text": [
      "[('🙏', 7286), ('😂', 3072), ('🚜', 2972), ('✊', 2411), ('🌾', 2363), ('🏻', 2080), ('❤', 1779), ('🤣', 1668), ('🏽', 1218), ('👇', 1108)]\n"
     ]
    }
   ],
   "source": [
    "from q2_memory import q2_memory\n",
    "\n",
    "run_function(\n",
    "    lambda x: print(q2_memory(x)),\n",
    "    \"q2_memory\",\n",
    "    file_path\n",
    ")"
   ]
  },
  {
   "cell_type": "markdown",
   "metadata": {
    "application/vnd.databricks.v1+cell": {
     "cellMetadata": {},
     "inputWidgets": {},
     "nuid": "386159f5-1574-4cc2-9bb7-30cf1f833b95",
     "showTitle": false,
     "title": ""
    }
   },
   "source": [
    "##### Resolución optimizando el tiempo"
   ]
  },
  {
   "cell_type": "code",
   "execution_count": null,
   "metadata": {
    "application/vnd.databricks.v1+cell": {
     "cellMetadata": {
      "byteLimit": 2048000,
      "rowLimit": 10000
     },
     "inputWidgets": {},
     "nuid": "b5f2404d-f3f8-4990-8248-0855004bbee5",
     "showTitle": false,
     "title": ""
    }
   },
   "outputs": [
    {
     "name": "stdout",
     "output_type": "stream",
     "text": [
      "[('🙏', 7286), ('😂', 3072), ('🚜', 2972), ('✊', 2411), ('🌾', 2363), ('🏻', 2080), ('❤', 1779), ('🤣', 1668), ('🏽', 1218), ('👇', 1108)]\n"
     ]
    }
   ],
   "source": [
    "from q2_time import q2_time\n",
    "\n",
    "run_function(\n",
    "    lambda x: print(q2_time(x)),\n",
    "    \"q2_time\",\n",
    "    file_path\n",
    ")"
   ]
  },
  {
   "cell_type": "markdown",
   "metadata": {
    "application/vnd.databricks.v1+cell": {
     "cellMetadata": {},
     "inputWidgets": {},
     "nuid": "b116956f-a2fc-4ccb-9e77-17f182a6ca3d",
     "showTitle": false,
     "title": ""
    }
   },
   "source": [
    "En este problema se tomó en consideración que los emoji se contabilizan sólo en los mensajes del Tweet, y los Tweet relacionados a este no se tomaron en cuenta para evitar duplicar la información en caso de haber referencias múltiples.\n",
    "\n",
    "Para los Emojis se uso la librería `emoji` indirectamente. Se copió uno de los archivos en utils y se agregó una función para ver si hay Emojis."
   ]
  },
  {
   "cell_type": "markdown",
   "metadata": {
    "application/vnd.databricks.v1+cell": {
     "cellMetadata": {},
     "inputWidgets": {},
     "nuid": "59d4c0ae-cb7d-4c6d-829c-d8549889624f",
     "showTitle": false,
     "title": ""
    }
   },
   "source": [
    "#### Problema 3"
   ]
  },
  {
   "cell_type": "markdown",
   "metadata": {
    "application/vnd.databricks.v1+cell": {
     "cellMetadata": {},
     "inputWidgets": {},
     "nuid": "3d286b2b-0224-4211-9cbb-ba10253b3ff3",
     "showTitle": false,
     "title": ""
    }
   },
   "source": [
    "##### Resolución optimizando la memoria RAM"
   ]
  },
  {
   "cell_type": "code",
   "execution_count": null,
   "metadata": {
    "application/vnd.databricks.v1+cell": {
     "cellMetadata": {
      "byteLimit": 2048000,
      "rowLimit": 10000
     },
     "inputWidgets": {},
     "nuid": "7aa5d8c8-d73f-45b6-be8c-cf226aa74ad0",
     "showTitle": false,
     "title": ""
    }
   },
   "outputs": [
    {
     "name": "stdout",
     "output_type": "stream",
     "text": [
      "[('narendramodi', 2265), ('Kisanektamorcha', 1840), ('RakeshTikaitBKU', 1644), ('PMOIndia', 1427), ('RahulGandhi', 1146), ('GretaThunberg', 1048), ('RaviSinghKA', 1019), ('rihanna', 986), ('UNHumanRights', 962), ('meenaharris', 926)]\n"
     ]
    }
   ],
   "source": [
    "from q3_memory import q3_memory\n",
    "\n",
    "run_function(\n",
    "    lambda x: print(q3_memory(x)),\n",
    "    \"q3_memory\",\n",
    "    file_path\n",
    ")"
   ]
  },
  {
   "cell_type": "markdown",
   "metadata": {
    "application/vnd.databricks.v1+cell": {
     "cellMetadata": {},
     "inputWidgets": {},
     "nuid": "72bc560a-418a-4580-83e5-a4a480049210",
     "showTitle": false,
     "title": ""
    }
   },
   "source": [
    "##### Resolución optimizando el tiempo"
   ]
  },
  {
   "cell_type": "code",
   "execution_count": null,
   "metadata": {
    "application/vnd.databricks.v1+cell": {
     "cellMetadata": {
      "byteLimit": 2048000,
      "rowLimit": 10000
     },
     "inputWidgets": {},
     "nuid": "04c57d3f-4b9a-4c95-88c7-e78d9b94a262",
     "showTitle": false,
     "title": ""
    }
   },
   "outputs": [
    {
     "name": "stdout",
     "output_type": "stream",
     "text": [
      "[('narendramodi', 2265), ('Kisanektamorcha', 1840), ('RakeshTikaitBKU', 1644), ('PMOIndia', 1427), ('RahulGandhi', 1146), ('GretaThunberg', 1048), ('RaviSinghKA', 1019), ('rihanna', 986), ('UNHumanRights', 962), ('meenaharris', 926)]\n"
     ]
    }
   ],
   "source": [
    "from q3_time import q3_time\n",
    "\n",
    "run_function(\n",
    "    lambda x: print(q3_time(x)),\n",
    "    \"q3_time\",\n",
    "    file_path\n",
    ")"
   ]
  },
  {
   "cell_type": "markdown",
   "metadata": {
    "application/vnd.databricks.v1+cell": {
     "cellMetadata": {},
     "inputWidgets": {},
     "nuid": "c9defc03-3246-477f-92d6-f1adf99a6ef5",
     "showTitle": false,
     "title": ""
    }
   },
   "source": [
    "Para el caso de las menciones, se aprovechó la estructura de datos que Twitter (X) proporciona. De esta manera no se buscó hacer operaciones de búsqueda en el String o con expresiones regulares"
   ]
  },
  {
   "cell_type": "markdown",
   "metadata": {
    "application/vnd.databricks.v1+cell": {
     "cellMetadata": {},
     "inputWidgets": {},
     "nuid": "12571d45-a734-47b8-9ae5-6cbdd6f8f420",
     "showTitle": false,
     "title": ""
    }
   },
   "source": [
    "#### Análisis de memoria"
   ]
  },
  {
   "cell_type": "code",
   "execution_count": null,
   "metadata": {
    "application/vnd.databricks.v1+cell": {
     "cellMetadata": {
      "byteLimit": 2048000,
      "rowLimit": 10000
     },
     "inputWidgets": {},
     "nuid": "fb553410-c955-4bb1-b4eb-ecd5a45045b2",
     "showTitle": false,
     "title": ""
    }
   },
   "outputs": [
    {
     "name": "stdout",
     "output_type": "stream",
     "text": [
      "Filename: /Workspace/Users/ivan.huerta.h@gmail.com/.ide/Challenge-34db729e/src/utils/profilers.py\n",
      "\n",
      "Line #    Mem usage    Increment  Occurrences   Line Contents\n",
      "=============================================================\n",
      "    25    212.1 MiB    212.1 MiB           1                   @mem_profile(stream=buffer)\n",
      "    26                                                         def run_func():\n",
      "    27    226.3 MiB     14.2 MiB           1                       result = func(*args, **kwargs)\n",
      "\n",
      "\n",
      "\n"
     ]
    }
   ],
   "source": [
    "print(mem_usage[\"q1_memory\"])"
   ]
  },
  {
   "cell_type": "code",
   "execution_count": null,
   "metadata": {
    "application/vnd.databricks.v1+cell": {
     "cellMetadata": {
      "byteLimit": 2048000,
      "rowLimit": 10000
     },
     "inputWidgets": {},
     "nuid": "0ffe57af-fc9e-4867-9db2-239335306328",
     "showTitle": false,
     "title": ""
    }
   },
   "outputs": [
    {
     "name": "stdout",
     "output_type": "stream",
     "text": [
      "Filename: /Workspace/Users/ivan.huerta.h@gmail.com/.ide/Challenge-34db729e/src/utils/profilers.py\n",
      "\n",
      "Line #    Mem usage    Increment  Occurrences   Line Contents\n",
      "=============================================================\n",
      "    25    226.3 MiB    226.3 MiB           1                   @mem_profile(stream=buffer)\n",
      "    26                                                         def run_func():\n",
      "    27    226.3 MiB      0.0 MiB           1                       result = func(*args, **kwargs)\n",
      "\n",
      "\n",
      "\n"
     ]
    }
   ],
   "source": [
    "print(mem_usage[\"q1_time\"])"
   ]
  },
  {
   "cell_type": "code",
   "execution_count": null,
   "metadata": {
    "application/vnd.databricks.v1+cell": {
     "cellMetadata": {
      "byteLimit": 2048000,
      "rowLimit": 10000
     },
     "inputWidgets": {},
     "nuid": "a046afd3-60c2-4de0-a639-dd3238f4e9a2",
     "showTitle": false,
     "title": ""
    }
   },
   "outputs": [
    {
     "name": "stdout",
     "output_type": "stream",
     "text": [
      "Filename: /Workspace/Users/ivan.huerta.h@gmail.com/.ide/Challenge-34db729e/src/utils/profilers.py\n",
      "\n",
      "Line #    Mem usage    Increment  Occurrences   Line Contents\n",
      "=============================================================\n",
      "    25    375.9 MiB    375.9 MiB           1                   @mem_profile(stream=buffer)\n",
      "    26                                                         def run_func():\n",
      "    27    375.9 MiB      0.0 MiB           1                       result = func(*args, **kwargs)\n",
      "\n",
      "\n",
      "\n"
     ]
    }
   ],
   "source": [
    "print(mem_usage[\"q2_memory\"])"
   ]
  },
  {
   "cell_type": "code",
   "execution_count": null,
   "metadata": {
    "application/vnd.databricks.v1+cell": {
     "cellMetadata": {
      "byteLimit": 2048000,
      "rowLimit": 10000
     },
     "inputWidgets": {},
     "nuid": "e503aa06-ef86-474e-89c7-ad17485ce548",
     "showTitle": false,
     "title": ""
    }
   },
   "outputs": [
    {
     "name": "stdout",
     "output_type": "stream",
     "text": [
      "Filename: /Workspace/Users/ivan.huerta.h@gmail.com/.ide/Challenge-34db729e/src/utils/profilers.py\n",
      "\n",
      "Line #    Mem usage    Increment  Occurrences   Line Contents\n",
      "=============================================================\n",
      "    25    293.6 MiB    293.6 MiB           1                   @mem_profile(stream=buffer)\n",
      "    26                                                         def run_func():\n",
      "    27    293.6 MiB      0.0 MiB           1                       result = func(*args, **kwargs)\n",
      "\n",
      "\n",
      "\n"
     ]
    }
   ],
   "source": [
    "print(mem_usage[\"q2_time\"])"
   ]
  },
  {
   "cell_type": "code",
   "execution_count": null,
   "metadata": {
    "application/vnd.databricks.v1+cell": {
     "cellMetadata": {
      "byteLimit": 2048000,
      "rowLimit": 10000
     },
     "inputWidgets": {},
     "nuid": "a202e3af-8e0d-469e-b132-1bca8f8a541e",
     "showTitle": false,
     "title": ""
    }
   },
   "outputs": [
    {
     "name": "stdout",
     "output_type": "stream",
     "text": [
      "Filename: /Workspace/Users/ivan.huerta.h@gmail.com/.ide/Challenge-34db729e/src/utils/profilers.py\n",
      "\n",
      "Line #    Mem usage    Increment  Occurrences   Line Contents\n",
      "=============================================================\n",
      "    25    290.5 MiB    290.5 MiB           1                   @mem_profile(stream=buffer)\n",
      "    26                                                         def run_func():\n",
      "    27    290.5 MiB      0.0 MiB           1                       result = func(*args, **kwargs)\n",
      "\n",
      "\n",
      "\n"
     ]
    }
   ],
   "source": [
    "print(mem_usage[\"q3_memory\"])"
   ]
  },
  {
   "cell_type": "code",
   "execution_count": null,
   "metadata": {
    "application/vnd.databricks.v1+cell": {
     "cellMetadata": {
      "byteLimit": 2048000,
      "rowLimit": 10000
     },
     "inputWidgets": {},
     "nuid": "981e488f-0fc6-4a8e-a065-c54b4350dda6",
     "showTitle": false,
     "title": ""
    }
   },
   "outputs": [
    {
     "name": "stdout",
     "output_type": "stream",
     "text": [
      "Filename: /Workspace/Users/ivan.huerta.h@gmail.com/.ide/Challenge-34db729e/src/utils/profilers.py\n",
      "\n",
      "Line #    Mem usage    Increment  Occurrences   Line Contents\n",
      "=============================================================\n",
      "    25    290.5 MiB    290.5 MiB           1                   @mem_profile(stream=buffer)\n",
      "    26                                                         def run_func():\n",
      "    27    290.5 MiB      0.0 MiB           1                       result = func(*args, **kwargs)\n",
      "\n",
      "\n",
      "\n"
     ]
    }
   ],
   "source": [
    "print(mem_usage[\"q3_time\"])"
   ]
  },
  {
   "cell_type": "markdown",
   "metadata": {
    "application/vnd.databricks.v1+cell": {
     "cellMetadata": {},
     "inputWidgets": {},
     "nuid": "cb13bdc9-9977-42db-9197-0b612d46314f",
     "showTitle": false,
     "title": ""
    }
   },
   "source": [
    "\n",
    "En el caso de la memoría hay que tener cuidado en el análisis, ya que existe información precargada, que son los 200MB que usan las funciones de Spark acá. Además no se considera los estados intermedios de uso de memoria.\n",
    "\n",
    "Pregunta|Optimización|Incremento de Memoria[MiB]\n",
    "--|--|--\n",
    "1|memoria|14.2\n",
    "1|tiempo|0\n",
    "2|memoria|0\n",
    "2|tiempo|0\n",
    "3|memoria|0\n",
    "3|tiempo|0\n",
    "\n",
    "Se podría mejorar este análisis viendo con mayor granularidad de funciones el uso de memoria"
   ]
  },
  {
   "cell_type": "markdown",
   "metadata": {
    "application/vnd.databricks.v1+cell": {
     "cellMetadata": {},
     "inputWidgets": {},
     "nuid": "d0fa5650-3b55-4080-8af6-1310a8a85042",
     "showTitle": false,
     "title": ""
    }
   },
   "source": [
    "#### Análisis de tiempo"
   ]
  },
  {
   "cell_type": "code",
   "execution_count": null,
   "metadata": {
    "application/vnd.databricks.v1+cell": {
     "cellMetadata": {
      "byteLimit": 2048000,
      "rowLimit": 10000
     },
     "inputWidgets": {},
     "nuid": "46013bad-2938-4f9e-8f30-085b71422ddd",
     "showTitle": false,
     "title": ""
    }
   },
   "outputs": [
    {
     "data": {
      "text/plain": [
       "['         3657335 function calls (3655608 primitive calls) in 36.110 seconds',\n",
       " '',\n",
       " '   Ordered by: cumulative time',\n",
       " '',\n",
       " '   ncalls  tottime  percall  cumtime  percall filename:lineno(function)',\n",
       " '        1    0.000    0.000   36.110   36.110 profilers.py:21(wrapper)',\n",
       " '        1    0.000    0.000   36.110   36.110 memory_profiler.py:1185(wrapper)',\n",
       " '        1    0.000    0.000   35.426   35.426 memory_profiler.py:759(f)',\n",
       " '        1    0.001    0.001   35.426   35.426 profilers.py:25(run_func)',\n",
       " '        1    0.000    0.000   35.425   35.425 command-2167256912143093-1932399044:4(wrapper)',\n",
       " '        1    0.000    0.000   35.425   35.425 command-2167256912143096-933597278:4(<lambda>)',\n",
       " '        1    0.005    0.005   35.425   35.425 q1_memory.py:11(q1_memory)',\n",
       " '        1   19.512   19.512   35.420   35.420 operations.py:111(aggregate_multiline_json)',\n",
       " '   117407    1.401    0.000    8.779    0.000 __init__.py:299(loads)',\n",
       " '   117407    1.193    0.000    7.284    0.000 decoder.py:332(decode)']"
      ]
     },
     "execution_count": 39,
     "metadata": {},
     "output_type": "execute_result"
    }
   ],
   "source": [
    "time_usage[\"q1_memory\"].split(\"\\n\")[:15]"
   ]
  },
  {
   "cell_type": "code",
   "execution_count": null,
   "metadata": {
    "application/vnd.databricks.v1+cell": {
     "cellMetadata": {
      "byteLimit": 2048000,
      "rowLimit": 10000
     },
     "inputWidgets": {},
     "nuid": "2bad773b-bfb1-4b96-a859-16de414f42b2",
     "showTitle": false,
     "title": ""
    }
   },
   "outputs": [
    {
     "data": {
      "text/plain": [
       "['         10269 function calls (10179 primitive calls) in 4.670 seconds',\n",
       " '',\n",
       " '   Ordered by: cumulative time',\n",
       " '',\n",
       " '   ncalls  tottime  percall  cumtime  percall filename:lineno(function)',\n",
       " '        1    0.000    0.000    4.670    4.670 profilers.py:21(wrapper)',\n",
       " '        1    0.000    0.000    4.670    4.670 memory_profiler.py:1185(wrapper)',\n",
       " '        1    0.000    0.000    4.484    4.484 memory_profiler.py:759(f)',\n",
       " '        1    0.001    0.001    4.484    4.484 profilers.py:25(run_func)',\n",
       " '        1    0.000    0.000    4.484    4.484 command-2167256912143093-1932399044:4(wrapper)',\n",
       " '        1    0.000    0.000    4.484    4.484 command-2167256912143098-4103342859:4(<lambda>)',\n",
       " '        1    0.000    0.000    4.483    4.483 q1_time.py:7(q1_time)',\n",
       " '     14/7    0.000    0.000    4.467    0.638 instrumentation_utils.py:39(wrapper)',\n",
       " '       74    0.001    0.000    4.356    0.059 socket.py:691(readinto)',\n",
       " \"       74    4.354    0.059    4.354    0.059 {method 'recv_into' of '_socket.socket' objects}\"]"
      ]
     },
     "execution_count": 41,
     "metadata": {},
     "output_type": "execute_result"
    }
   ],
   "source": [
    "time_usage[\"q1_time\"].split(\"\\n\")[:15]"
   ]
  },
  {
   "cell_type": "code",
   "execution_count": null,
   "metadata": {
    "application/vnd.databricks.v1+cell": {
     "cellMetadata": {
      "byteLimit": 2048000,
      "rowLimit": 10000
     },
     "inputWidgets": {},
     "nuid": "a4bdfc2e-397f-4bd6-866f-f82c52920738",
     "showTitle": false,
     "title": ""
    }
   },
   "outputs": [
    {
     "data": {
      "text/plain": [
       "['         19356616 function calls in 59.760 seconds',\n",
       " '',\n",
       " '   Ordered by: cumulative time',\n",
       " '',\n",
       " '   ncalls  tottime  percall  cumtime  percall filename:lineno(function)',\n",
       " '        1    0.000    0.000   59.760   59.760 profilers.py:21(wrapper)',\n",
       " '        1    0.000    0.000   59.760   59.760 memory_profiler.py:1185(wrapper)',\n",
       " '        1    0.000    0.000   59.748   59.748 memory_profiler.py:759(f)',\n",
       " '        1    0.001    0.001   59.748   59.748 profilers.py:25(run_func)',\n",
       " '        1    0.000    0.000   59.747   59.747 command-2167256912143093-1932399044:4(wrapper)',\n",
       " '        1    0.000    0.000   59.747   59.747 command-2167256912143101-217985823:4(<lambda>)',\n",
       " '        1    0.000    0.000   59.747   59.747 q2_memory.py:8(q2_memory)',\n",
       " '        1    9.936    9.936   59.747   59.747 operations.py:111(aggregate_multiline_json)',\n",
       " '   117407    1.591    0.000   36.268    0.000 operations.py:89(get_value)',\n",
       " '   117407   31.864    0.000   34.573    0.000 emoji.py:53(get_emojis)']"
      ]
     },
     "execution_count": 42,
     "metadata": {},
     "output_type": "execute_result"
    }
   ],
   "source": [
    "time_usage[\"q2_memory\"].split(\"\\n\")[:15]"
   ]
  },
  {
   "cell_type": "code",
   "execution_count": null,
   "metadata": {
    "application/vnd.databricks.v1+cell": {
     "cellMetadata": {
      "byteLimit": 2048000,
      "rowLimit": 10000
     },
     "inputWidgets": {},
     "nuid": "cfb5db36-6f59-49f5-b5e7-8ec21988886d",
     "showTitle": false,
     "title": ""
    }
   },
   "outputs": [
    {
     "data": {
      "text/plain": [
       "['         18214 function calls (18101 primitive calls) in 10.951 seconds',\n",
       " '',\n",
       " '   Ordered by: cumulative time',\n",
       " '',\n",
       " '   ncalls  tottime  percall  cumtime  percall filename:lineno(function)',\n",
       " '        1    0.000    0.000   10.950   10.950 profilers.py:21(wrapper)',\n",
       " '        1    0.000    0.000   10.950   10.950 memory_profiler.py:1185(wrapper)',\n",
       " '        1    0.000    0.000   10.738   10.738 memory_profiler.py:759(f)',\n",
       " '        1    0.001    0.001   10.738   10.738 profilers.py:25(run_func)',\n",
       " '        1    0.000    0.000   10.737   10.737 command-2167256912143093-1932399044:4(wrapper)',\n",
       " '        1    0.000    0.000   10.737   10.737 command-2167256912143103-2517778622:4(<lambda>)',\n",
       " '        1    0.000    0.000   10.736   10.736 command-2167256912143145-2297665257:14(q2_time2)',\n",
       " '      138    0.005    0.000   10.633    0.077 java_gateway.py:1015(send_command)',\n",
       " '      138    0.005    0.000   10.624    0.077 clientserver.py:524(send_command)',\n",
       " '    27/15    0.001    0.000   10.624    0.708 instrumentation_utils.py:39(wrapper)']"
      ]
     },
     "execution_count": 43,
     "metadata": {},
     "output_type": "execute_result"
    }
   ],
   "source": [
    "time_usage[\"q2_time\"].split(\"\\n\")[:15]"
   ]
  },
  {
   "cell_type": "code",
   "execution_count": null,
   "metadata": {
    "application/vnd.databricks.v1+cell": {
     "cellMetadata": {
      "byteLimit": 2048000,
      "rowLimit": 10000
     },
     "inputWidgets": {},
     "nuid": "1c5e841c-8c11-4a21-a7c4-1f8224e5817b",
     "showTitle": false,
     "title": ""
    }
   },
   "outputs": [
    {
     "data": {
      "text/plain": [
       "['         2264821 function calls in 27.160 seconds',\n",
       " '',\n",
       " '   Ordered by: cumulative time',\n",
       " '',\n",
       " '   ncalls  tottime  percall  cumtime  percall filename:lineno(function)',\n",
       " '        1    0.000    0.000   27.160   27.160 profilers.py:21(wrapper)',\n",
       " '        1    0.000    0.000   27.160   27.160 memory_profiler.py:1185(wrapper)',\n",
       " '        1    0.000    0.000   26.965   26.965 memory_profiler.py:759(f)',\n",
       " '        1    0.001    0.001   26.965   26.965 profilers.py:25(run_func)',\n",
       " '        1    0.000    0.000   26.964   26.964 command-2167256912143093-1932399044:4(wrapper)',\n",
       " '        1    0.000    0.000   26.964   26.964 command-2167256912143107-3977979164:4(<lambda>)',\n",
       " '        1    0.001    0.001   26.964   26.964 q3_memory.py:7(q3_memory)',\n",
       " '        1   13.020   13.020   26.963   26.963 operations.py:111(aggregate_multiline_json)',\n",
       " '   117407    1.373    0.000    8.544    0.000 __init__.py:299(loads)',\n",
       " '   117407    1.149    0.000    7.086    0.000 decoder.py:332(decode)']"
      ]
     },
     "execution_count": 44,
     "metadata": {},
     "output_type": "execute_result"
    }
   ],
   "source": [
    "time_usage[\"q3_memory\"].split(\"\\n\")[:15]"
   ]
  },
  {
   "cell_type": "code",
   "execution_count": null,
   "metadata": {
    "application/vnd.databricks.v1+cell": {
     "cellMetadata": {
      "byteLimit": 2048000,
      "rowLimit": 10000
     },
     "inputWidgets": {},
     "nuid": "7a2dcb2f-1b79-47b6-a13f-8a980574eb58",
     "showTitle": false,
     "title": ""
    }
   },
   "outputs": [
    {
     "data": {
      "text/plain": [
       "['         11887 function calls (11799 primitive calls) in 4.517 seconds',\n",
       " '',\n",
       " '   Ordered by: cumulative time',\n",
       " '',\n",
       " '   ncalls  tottime  percall  cumtime  percall filename:lineno(function)',\n",
       " '        1    0.000    0.000    4.517    4.517 profilers.py:21(wrapper)',\n",
       " '        1    0.000    0.000    4.517    4.517 memory_profiler.py:1185(wrapper)',\n",
       " '        1    0.000    0.000    4.299    4.299 memory_profiler.py:759(f)',\n",
       " '        1    0.001    0.001    4.299    4.299 profilers.py:25(run_func)',\n",
       " '        1    0.000    0.000    4.298    4.298 command-2167256912143093-1932399044:4(wrapper)',\n",
       " '        1    0.000    0.000    4.298    4.298 command-2167256912143109-2002491190:4(<lambda>)',\n",
       " '        1    0.000    0.000    4.298    4.298 q3_time.py:7(q3_time)',\n",
       " '    19/10    0.001    0.000    4.265    0.426 instrumentation_utils.py:39(wrapper)',\n",
       " '       85    0.003    0.000    4.157    0.049 java_gateway.py:1015(send_command)',\n",
       " '       85    0.003    0.000    4.151    0.049 clientserver.py:524(send_command)']"
      ]
     },
     "execution_count": 45,
     "metadata": {},
     "output_type": "execute_result"
    }
   ],
   "source": [
    "time_usage[\"q3_time\"].split(\"\\n\")[:15]"
   ]
  },
  {
   "cell_type": "markdown",
   "metadata": {
    "application/vnd.databricks.v1+cell": {
     "cellMetadata": {},
     "inputWidgets": {},
     "nuid": "1a56b4a3-4cd9-456d-91e9-30eb8528b426",
     "showTitle": false,
     "title": ""
    }
   },
   "source": [
    "Se puede ver a través de los valores que salen en (run_func) una comparación de cada tiempo que demoró en ejecutarse el código:\n",
    "\n",
    "Pregunta|Optimización|tiempo[s]\n",
    "--|--|--\n",
    "1|memoria|35.426\n",
    "1|tiempo|4.484\n",
    "2|memoria|59.748\n",
    "2|tiempo|10.738\n",
    "3|memoria|26.965\n",
    "3|tiempo|4.299\n",
    "\n",
    "Si bien la disminución se ve sustancial, mayormente es por la precarga del DataFrame en Spark. Aún así las de tiempo son soluciones escalables que pueden mejorar con la adición de más workers\n"
   ]
  },
  {
   "cell_type": "markdown",
   "metadata": {},
   "source": [
    "#### Temas no revisados que si consideraría en un caso real\n",
    "\n",
    "No se realizó análisis exhaustivo de los datos, ya que la fuente de Twitter es relativamente confiable. Además que en el manejo de errores no tiró problemas.\n",
    "\n",
    "En un caso real se debería inspeccionar los datos, ver que los formatos sean los correspondientes (como con los esquemas de Spark), intentar repararlos cuando se pueda o eliminar los que puedan sumar complejidad al procesamiento"
   ]
  },
  {
   "cell_type": "markdown",
   "metadata": {},
   "source": []
  }
 ],
 "metadata": {
  "application/vnd.databricks.v1+notebook": {
   "dashboards": [],
   "environmentMetadata": null,
   "language": "python",
   "notebookMetadata": {
    "mostRecentlyExecutedCommandWithImplicitDF": {
     "commandId": 2167256912143087,
     "dataframes": [
      "_sqldf"
     ]
    },
    "pythonIndentUnit": 4
   },
   "notebookName": "challenge",
   "widgets": {}
  },
  "kernelspec": {
   "display_name": "latam_challenge",
   "language": "python",
   "name": "python3"
  },
  "language_info": {
   "codemirror_mode": {
    "name": "ipython",
    "version": 3
   },
   "file_extension": ".py",
   "mimetype": "text/x-python",
   "name": "python",
   "nbconvert_exporter": "python",
   "pygments_lexer": "ipython3",
   "version": "3.12.4"
  },
  "orig_nbformat": 4
 },
 "nbformat": 4,
 "nbformat_minor": 0
}
